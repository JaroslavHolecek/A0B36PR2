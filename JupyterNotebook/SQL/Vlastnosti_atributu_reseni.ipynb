{
  "nbformat": 4,
  "nbformat_minor": 0,
  "metadata": {
    "interpreter": {
      "hash": "844666d065970604720619e9beaf7cae1bffaee307c095d8082add94b805615d"
    },
    "kernelspec": {
      "display_name": "Python 3.9.6 64-bit (system)",
      "name": "python3"
    },
    "language_info": {
      "codemirror_mode": {
        "name": "ipython",
        "version": 3
      },
      "file_extension": ".py",
      "mimetype": "text/x-python",
      "name": "python",
      "nbconvert_exporter": "python",
      "pygments_lexer": "ipython3",
      "version": "3.9.6"
    },
    "orig_nbformat": 4,
    "colab": {
      "name": "Vlastnosti_atributu_reseni.ipynb",
      "provenance": [],
      "collapsed_sections": [],
      "include_colab_link": true
    }
  },
  "cells": [
    {
      "cell_type": "markdown",
      "metadata": {
        "id": "view-in-github",
        "colab_type": "text"
      },
      "source": [
        "<a href=\"https://colab.research.google.com/github/JaroslavHolecek/A0B36PR2/blob/master/JupyterNotebook/SQL/Vlastnosti_atributu_reseni.ipynb\" target=\"_parent\"><img src=\"https://colab.research.google.com/assets/colab-badge.svg\" alt=\"Open In Colab\"/></a>"
      ]
    },
    {
      "cell_type": "markdown",
      "metadata": {
        "id": "c7Ke91Y3SYBt"
      },
      "source": [
        "# Vlastnosti atributů\n",
        "Jak bylo již zmíněno v souboru [Create_alter_delete_zadani.ipynb](https://github.com/JaroslavHolecek/Teaching/blob/master/JupyterNotebook/SQL/Create_alter_delete_zadani.ipynb), tak sloupečky tabulek mohou mít nejrůznější vlastnosti. A na některé z nich se podíváme.\n",
        "\n",
        "# Primary key\n",
        "Primary key, neboli vlastní klíč slouží k jednoznačné identifakici řádku v tabulce. Ve sloupečku označeném jako \"PRIMARY KEY\" se nesmí žádná hodnota opakovat dvakrát, toto za nás pohlídá sama databáze.\n",
        "Při vypisování hodnot z databáze se nám pak vrátí buď <strong>jeden</strong> řádek, nebo žádný.\n",
        "Jako vlastní klíč můžeme označit i více atributů dohromady. V tabulce se potom nebude opakovat řádek, který má kombinaci těchto hodnot stejnou.\n",
        "\n",
        "## Ukázka jednoho vlastního klíče v tabulce\n",
        "Spolu s vlastním klíčem se často na atribut používá funkce AUTO_INCREMENT, to nám zajistí že si nemusíme pamatovat v tomto případě poslední přidělené ID.\n",
        "Téměř vždy budeme jako vlastní klíč používat atribut ID."
      ]
    },
    {
      "cell_type": "code",
      "metadata": {
        "id": "KTtbBWBiBseu"
      },
      "source": [
        "!pip install mysql-connector"
      ],
      "execution_count": null,
      "outputs": []
    },
    {
      "cell_type": "code",
      "metadata": {
        "id": "GKgArvEESYCQ"
      },
      "source": [
        "import mysql.connector\n",
        "\n",
        "mydb = mysql.connector.connect(\n",
        "    host = \"dbs.spskladno.cz\"\n",
        "    ,user = \"student1\"\n",
        "    ,password = \"spsnet\"\n",
        "    ,database = \"vyuka1\"\n",
        ")\n",
        "mycursor = mydb.cursor()\n",
        "\n",
        "mycursor.execute(\"\"\"\n",
        "CREATE TABLE Automobil(\n",
        "    id int PRIMARY KEY AUTO_INCREMENT, \n",
        "    jmeno text,\n",
        "    prijmeni text\n",
        ")\"\"\")\n",
        "\n",
        "mydb.commit()\n",
        "\n",
        "mycursor.close()\n",
        "mydb.close()"
      ],
      "execution_count": 8,
      "outputs": []
    },
    {
      "cell_type": "markdown",
      "metadata": {
        "id": "R4rrb86TSYCc"
      },
      "source": [
        "\n",
        "## Vlastní klíč přes dva (či více) sloupečky(ů)\n",
        "Abychom nastavili omezení přes více sloupečků, použijeme CONSTRAINT (omezení, podmínku). Toto omezení pojmenujeme (název se nám zobrazí, např. pokud nastane chyba právě v tomto omezení -> pokusíme se např. zadat druhého člověka se stejným jménem i příjmením) a nastavíme co má omezovat. Obecně tato funkce vypadá takto:\n",
        "\n",
        "<code>CONSTRAINT Nazev PRIMARY KEY (atribut1, atribut2)</code>"
      ]
    },
    {
      "cell_type": "code",
      "metadata": {
        "id": "cLL0hX7mSYCh"
      },
      "source": [
        "mydb = mysql.connector.connect(\n",
        "    host = \"dbs.spskladno.cz\"\n",
        "    ,user = \"student1\"\n",
        "    ,password = \"spsnet\"\n",
        "    ,database = \"vyuka1\"\n",
        ")\n",
        "mycursor = mydb.cursor()\n",
        "\n",
        "# mycursor.execute(\"DROP TABLE Automobil\")\n",
        "mycursor.execute(\"\"\"CREATE TABLE Automobil(\n",
        "    id int, \n",
        "    jmeno char(10),\n",
        "    prijmeni char(20),\n",
        "    CONSTRAINT PK_jmeno_prijmeni PRIMARY KEY (jmeno, prijmeni)\n",
        ");\"\"\")\n",
        "\n",
        "mydb.commit()\n",
        "\n",
        "mycursor.close()\n",
        "mydb.close()"
      ],
      "execution_count": 11,
      "outputs": []
    },
    {
      "cell_type": "markdown",
      "metadata": {
        "id": "W5M_hNf7SYCo"
      },
      "source": [
        "# Foreign key\n",
        "Pomocí \"cizího klíče\" řekneme databázi, že hodnoty uložené v tomto sloupečku jsou převzaté z jiného sloupečku v jiné tabulce.\n",
        "SŘBD nám bude hlídat zda v něm nemáme hodnotu, která v druhé tabulce neexistuje. Také můžeme nastavit, co se má stát, když některou hodnotu chceme smazat a máme na ni navázanou jinou hodnotu (FOREIGN KEY) v jiné tabulce - nepůjde smazat / smaže se řádek v obou tabulkách (ON DELETE CASCADE)."
      ]
    },
    {
      "cell_type": "code",
      "metadata": {
        "id": "Bai38VmWSYCs"
      },
      "source": [
        "mydb = mysql.connector.connect(\n",
        "    host = \"dbs.spskladno.cz\"\n",
        "    ,user = \"student1\"\n",
        "    ,password = \"spsnet\"\n",
        "    ,database = \"vyuka1\"\n",
        ")\n",
        "mycursor = mydb.cursor()\n",
        "\n",
        "# mycursor.execute(\"DROP TABLE Clovek\")\n",
        "mycursor.execute(\"DROP TABLE Kvalifikace\")\n",
        "mycursor.execute(\"\"\"CREATE TABLE Kvalifikace(\n",
        "    id int PRIMARY KEY AUTO_INCREMENT, \n",
        "    oznaceni text,\n",
        "    popis text\n",
        ");\"\"\")\n",
        "mydb.commit()\n",
        "\n",
        "\n",
        "mycursor.execute(\"\"\"CREATE TABLE Clovek(\n",
        "    id int PRIMARY KEY AUTO_INCREMENT, \n",
        "    jmeno text,\n",
        "    prijmeni text,\n",
        "    datum_narozeni date,\n",
        "    kvalifikace int,\n",
        "    FOREIGN KEY (kvalifikace) REFERENCES Kvalifikace(id)\n",
        ");\"\"\")\n",
        "\n",
        "mydb.commit()\n",
        "\n",
        "mycursor.close()\n",
        "mydb.close()"
      ],
      "execution_count": 19,
      "outputs": []
    },
    {
      "cell_type": "markdown",
      "metadata": {
        "id": "57ZHuPC-SYCx"
      },
      "source": [
        "Atribut <code>kvalifikace</code> jsme nastavili jako Cizí klíč, ve kterém jsou hodnoty ze sloupce <code>id</code> z tabulky <code>Kvalifikace</code>.\n",
        "Vlastní klíč \"id\" v tabulce Kvalifikace volíme záměrně - zapsat do sloupečku \"kvalifikace\" můžeme jen jednu hodnotu a proto musíme zajistit, aby byla možná jen jedna hodnota ve zdrojovém sloupečku \"id\".\n",
        "\n",
        "# NOT NULL\n",
        "Označuje atribut, ve kterém nemůže být uložena hodnota NULL - tedy prázdno - tedy vždy musíme hodnotu vyplnit.\n",
        "\n",
        "# AUTO_INCREMENT\n",
        "V tomto atributu se automaticky doplní hodnota. Databáze zjistí nejvyšší hodnotu v tomto sloupečku, přičte 1 a výsledek vloží na nové místo.\n",
        "Typicky se dává na atribut s názvem \"id\".\n",
        "\n",
        "# UNIQUE\n",
        "V takto označeném atributu se nesmí žádná hodnota opakovat.\n",
        "Lze ji nastavit i na více sloupečků. Potom se nemůže opakovat stejná tato dvojice, ale hodnota v každém sloupčku se opakovat může. Takovou vlastnost napíšeme pomocí CONSTRAINT - vysvětlena níže.\n",
        "\n",
        "# DEFAULT\n",
        "Pokud nastavíme atributu DEFAULT hodnotu a poté při vkládání záznamu nezapíšeme, jaká hodnota se má do tohoto sloupečku vložit, vloží se tato nastavená hodnota.\n",
        "\n",
        "# CONSTRAINT\n",
        "Tuto vlastnost využijeme ve chvíli kdy:\n",
        "- Do tabulky chceme vložit nějaké omezení (např. NOT NULL, UNIQUE) až poté, co jsme ji již vytvořili a nechceme celou tabulku vytvářet znovu.\n",
        "- Chceme nastavit omezení přes více sloupečků (nebude se moct 2x objevit kombinace sloupečků, hodnoty v samotných sloupčcích se opakovat mohou).\n",
        "- Chceme omezení pojmenovat (aby se nám přehledně zobrazovalo např. v chybových hláškách).\n",
        "\n",
        "## Zápis přímo do tabulky"
      ]
    },
    {
      "cell_type": "code",
      "metadata": {
        "id": "GNjRKAwTSYC1"
      },
      "source": [
        "mydb = mysql.connector.connect(\n",
        "    host = \"dbs.spskladno.cz\"\n",
        "    ,user = \"student1\"\n",
        "    ,password = \"spsnet\"\n",
        "    ,database = \"vyuka1\"\n",
        ")\n",
        "mycursor = mydb.cursor()\n",
        "\n",
        "# mycursor.execute(\"DROP TABLE Clovek\")\n",
        "mycursor.execute(\"\"\"CREATE TABLE Clovek( \n",
        "    jmeno char(10) NOT NULL,\n",
        "    prijmeni char(20) NOT NULL,\n",
        "    datum_narozeni date,\n",
        "    kvalifikace text,\n",
        "    CONSTRAINT PK_Clovek PRIMARY KEY (jmeno, prijmeni),\n",
        "    CONSTRAINT nechceme_dvojcata UNIQUE (datum_narozeni)\n",
        ");\"\"\")\n",
        "\n",
        "mydb.commit()\n",
        "\n",
        "mycursor.close()\n",
        "mydb.close()"
      ],
      "execution_count": 23,
      "outputs": []
    },
    {
      "cell_type": "markdown",
      "metadata": {
        "id": "tEq79cc3SYC5"
      },
      "source": [
        "## Zápis až po vytvoření tabulky"
      ]
    },
    {
      "cell_type": "code",
      "metadata": {
        "id": "66aYcL6ZSYC-"
      },
      "source": [
        "mydb = mysql.connector.connect(\n",
        "    host = \"dbs.spskladno.cz\"\n",
        "    ,user = \"student1\"\n",
        "    ,password = \"spsnet\"\n",
        "    ,database = \"vyuka1\"\n",
        ")\n",
        "mycursor = mydb.cursor()\n",
        "\n",
        "mycursor.execute(\"DROP TABLE Clovek\")\n",
        "mycursor.execute(\"\"\"CREATE TABLE Clovek( \n",
        "    jmeno char(10) NOT NULL,\n",
        "    prijmeni char(20) NOT NULL,\n",
        "    datum_narozeni date,\n",
        "    kvalifikace text\n",
        ");\"\"\")\n",
        "mydb.commit()\n",
        "\n",
        "mycursor.execute(\"\"\"ALTER TABLE Clovek ADD CONSTRAINT PK_Clovek PRIMARY KEY (jmeno, prijmeni);\"\"\")\n",
        "mydb.commit()\n",
        "\n",
        "mycursor.execute(\"\"\"ALTER TABLE Clovek ADD CONSTRAINT nechceme_dvojcata UNIQUE (datum_narozeni)\"\"\")\n",
        "\n",
        "\n",
        "mycursor.close()\n",
        "mydb.close()"
      ],
      "execution_count": 26,
      "outputs": []
    },
    {
      "cell_type": "markdown",
      "metadata": {
        "id": "nkvBrYN_SYDD"
      },
      "source": [
        "# Cvičeni\n",
        "Bude následovat pouze jedno cvičení.\n",
        "\n",
        "Připojte se do databáze a vytvořte tabulku Auto s atributy a vlastnostmi atributu:\n",
        "- id(int, hodnota se sama vyplní, vlastní klíč)\n",
        "- znacka(char(20), nesmí být prázdné)\n",
        "- spz(char(7), nesmí být prázdné, musí být jedinečná hodnota)\n",
        "\n",
        "Vytvořte tabulku Ridic s atributy a vlastnostmi atributu:\n",
        "- id(int, hodnota se sama vyplní, vlastní klíč)\n",
        "- jmeno(char(10), nesmí být prázdné)\n",
        "- prijmeni(char(20), nesmí být prázdné)\n",
        "- auto(int, cizí klíč odkazující na atribut \"id\" tabulky Auto)\n",
        "- Jedna kombinace jmena a prijmeni se nesmí objevit vícekrát, hodnoty samotných atributech se opakovat mohou, tuto kombinaci pojmenujte unikatni_jmeno\n",
        "\n",
        "\n",
        "\n"
      ]
    },
    {
      "cell_type": "code",
      "metadata": {
        "id": "2V6GA5DLSYDI"
      },
      "source": [
        "# zde přijde váš kód ->\n",
        "mydb = mysql.connector.connect(\n",
        "    host = \"dbs.spskladno.cz\"\n",
        "    ,user = \"student1\"\n",
        "    ,password = \"spsnet\"\n",
        "    ,database = \"vyuka1\"\n",
        ")\n",
        "mycursor = mydb.cursor()\n",
        "\n",
        "#mycursor.execute(\"DROP TABLE Auto\")\n",
        "mycursor.execute(\"\"\"CREATE TABLE Auto( \n",
        "    id int PRIMARY KEY AUTO_INCREMENT,\n",
        "    znacka char(20) NOT NULL,\n",
        "    spz char(7) UNIQUE NOT NULL\n",
        ");\"\"\")\n",
        "mydb.commit()\n",
        "\n",
        "# >>> tuto část neměnit ! \n",
        "mycursor.execute(\"\"\"DESCRIBE Auto\"\"\")\n",
        "table = str(mycursor.fetchall())\n",
        "expected = \"[('id', 'int(11)', 'NO', 'PRI', None, 'auto_increment'), ('znacka', 'char(20)', 'NO', '', None, ''), ('spz', 'char(7)', 'NO', 'UNI', None, '')]\"\n",
        "if table == expected:\n",
        "    print(\"Tabulka Auto vytvořena správně.\")\n",
        "else:\n",
        "  print(\"Tabulka Auto není dle zadání.\\nVaše tabulka:\")\n",
        "  print(table)\n",
        "  print(\"Očekávaná tabulka:\")\n",
        "  print(expected)\n",
        "  print(\"Výpis se liší na pozicích:\", [ i for i in range(min(len(table),len(expected))) if table[i] != expected[i] ])\n",
        "# >>> konec části neměnit!\n",
        "\n",
        "# zde přijde váš kód ->\n",
        "#mycursor.execute(\"\"\"DESCRIBE Ridic\"\"\")\n",
        "mycursor.execute(\"\"\"CREATE TABLE Ridic( \n",
        "    id int PRIMARY KEY AUTO_INCREMENT,\n",
        "    jmeno char(10) NOT NULL,\n",
        "    prijmeni char(20) NOT NULL,\n",
        "    auto int,\n",
        "    FOREIGN KEY (auto) REFERENCES Auto(id)\n",
        ");\"\"\")\n",
        "mydb.commit()\n",
        "\n",
        "# >>> tuto část neměnit ! \n",
        "mycursor.execute(\"\"\"DESCRIBE Ridic\"\"\")\n",
        "table = str(mycursor.fetchall())\n",
        "expected = \"[('id', 'int(11)', 'NO', 'PRI', None, 'auto_increment'), ('jmeno', 'char(10)', 'NO', '', None, ''), ('prijmeni', 'char(20)', 'NO', '', None, ''), ('auto', 'int(11)', 'YES', 'MUL', None, '')]\"\n",
        "if table == expected:\n",
        "    print(\"Tabulka Ridic vytvořena správně.\")\n",
        "else:\n",
        "  print(\"Tabulka Ridic není dle zadání.\\nVaše tabulka:\")\n",
        "  print(table)\n",
        "  print(\"Očekávaná tabulka:\")\n",
        "  print(expected)\n",
        "  print(\"Výpis se liší na pozicích:\", [ i for i in range(min(len(table),len(expected))) if table[i] != expected[i] ])\n",
        "# >>> konec části neměnit!\n",
        "\n",
        "mycursor.execute(\"\"\"DROP TABLE Ridic\"\"\")\n",
        "mycursor.execute(\"\"\"DROP TABLE Auto\"\"\")\n",
        "mydb.commit()\n",
        "\n",
        "mycursor.close()\n",
        "mydb.close()"
      ],
      "execution_count": null,
      "outputs": []
    }
  ]
}