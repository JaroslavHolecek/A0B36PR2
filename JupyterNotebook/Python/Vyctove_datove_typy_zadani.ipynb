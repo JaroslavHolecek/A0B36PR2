{
  "cells": [
    {
      "cell_type": "markdown",
      "metadata": {
        "id": "view-in-github",
        "colab_type": "text"
      },
      "source": [
        "<a href=\"https://colab.research.google.com/github/JaroslavHolecek/A0B36PR2/blob/master/JupyterNotebook/Python/Vyctove_datove_typy_zadani.ipynb\" target=\"_parent\"><img src=\"https://colab.research.google.com/assets/colab-badge.svg\" alt=\"Open In Colab\"/></a>"
      ]
    },
    {
      "cell_type": "markdown",
      "metadata": {
        "id": "VA8qcJkL0n7l"
      },
      "source": [
        "# Výčtové datové typy\n",
        "Python má několik výčtových datových typů, které se používají pro uchování více hodnot v jedné proměnné. <br>\n",
        "Jsou to: <br>\n",
        "- list\n",
        "- tuple\n",
        "- set\n",
        "- dict (dictionary)\n",
        "- Enum\n",
        "\n",
        "- range\n",
        "\n",
        "## Range\n",
        "Začneme typem range, který je trochu speciální. Jak název napovídá, je to rozsah čísel.\n",
        "\n"
      ]
    },
    {
      "cell_type": "code",
      "source": [
        "# tímto se toho mnoho nedozvíme...\n",
        "print(range(3))\n",
        "# hvězdičkou se můžeme podívat \"dovnitř\" typu range\n",
        "print(*range(3))\n",
        "# můžeme určit i počáteční hodnotu\n",
        "print(*range(5, 10))\n",
        "# a také můžeme určit krok\n",
        "print(*range(5,10,2))"
      ],
      "metadata": {
        "id": "4QCfM5jD-Aum"
      },
      "execution_count": null,
      "outputs": []
    },
    {
      "cell_type": "markdown",
      "source": [
        "\n",
        "## List\n",
        "List se tvoří pomocí '[ ]' a hodnoty se oddělují čárkami."
      ],
      "metadata": {
        "id": "2UpR1TZ2-C4h"
      }
    },
    {
      "cell_type": "code",
      "execution_count": null,
      "metadata": {
        "id": "0E1XuZxw0n7t"
      },
      "outputs": [],
      "source": [
        "# takto může vypadat typický list\n",
        "muj_list = [\"jablko\", \"hruška\", \"meloun\"]\n",
        "# po výpisu do konzole list vypadá takto\n",
        "print(muj_list)"
      ]
    },
    {
      "cell_type": "markdown",
      "metadata": {
        "id": "12D0lJJx0n7y"
      },
      "source": [
        "### Vypsání konkrétní hodnoty\n",
        "Pokud chceme vypsat konkrétní prvek z listu, musíme použít '[ ]' a do závorek vložit index prvku, který chceme vypsat. Hodnoty v listu jsou indexované od 0. Indexy jsou implicitně zabudované do programovacího jazyka, tedy nemusíme nikde zapisovat, že mají existovat a nemůžeme je nijak měnit."
      ]
    },
    {
      "cell_type": "code",
      "execution_count": null,
      "metadata": {
        "id": "xE0uRFyq0n71"
      },
      "outputs": [],
      "source": [
        "# mějme list\n",
        "# indexy:      0         1         2\n",
        "muj_list = [\"jablko\", \"hruška\", \"meloun\"]\n",
        "# a chceme vypsat první prvek\n",
        "print(muj_list[0])\n",
        "# pokud chceme vypsat druhý prvek\n",
        "print(muj_list[1])"
      ]
    },
    {
      "cell_type": "markdown",
      "metadata": {
        "id": "hZ9Rt1Gj0n75"
      },
      "source": [
        "### Záměna hodnot\n",
        "List umožňuje přidání, odebrání a změnu hodnot. To se provádí pomocí funkcí append(), pop() a přístupu k prvku pomocí indexu."
      ]
    },
    {
      "cell_type": "code",
      "execution_count": null,
      "metadata": {
        "id": "QHyMrIcw0n79"
      },
      "outputs": [],
      "source": [
        "# mějme list\n",
        "muj_list = [\"jablko\", \"hruška\", \"meloun\"]\n",
        "# a chceme přidat nový prvek na konec listu\n",
        "muj_list.append(\"banan\")\n",
        "# po výpisu do konzole list vypadá takto\n",
        "print(muj_list)\n",
        "\n",
        "# pro smazání prvku z listu se používá funkce pop()\n",
        "# použijeme ten samý list a smažeme z něj druhý prvek\n",
        "muj_list.pop(1) # jako argument předáme index prvku, který chceme smazat\n",
        "# po výpisu do konzole list vypadá takto\n",
        "print(muj_list)\n",
        "\n",
        "# změnit prvek můžeme přímo\n",
        "muj_list[0] = \"malina\"\n",
        "print(muj_list)"
      ]
    },
    {
      "cell_type": "markdown",
      "metadata": {
        "id": "tjPcOCjZ0n7-"
      },
      "source": [
        "### Zjištění délky listu\n",
        "Pomocí funkce len() lze zjistit délku listu."
      ]
    },
    {
      "cell_type": "code",
      "execution_count": null,
      "metadata": {
        "id": "_FhxhAeJ0n8B"
      },
      "outputs": [],
      "source": [
        "# mějme list\n",
        "muj_list = [\"jablko\", \"hruška\", \"meloun\"]\n",
        "# a chceme zjistit jeho délku\n",
        "print(len(muj_list))"
      ]
    },
    {
      "cell_type": "markdown",
      "metadata": {
        "id": "afR_q9xx0n8C"
      },
      "source": [
        "### For loop pro list\n",
        "Pokud chceme procházet list (s každým prvkem provést nějakou operaci), použijeme for loop. Python umožňuje několik způsobů procházení listu."
      ]
    },
    {
      "cell_type": "code",
      "execution_count": null,
      "metadata": {
        "id": "YG3MKubD0n8E"
      },
      "outputs": [],
      "source": [
        "# mějme list\n",
        "muj_list = [\"jablko\", \"hruška\", \"meloun\", \"banan\", \"ananas\", \"citron\"]\n",
        "# a chceme vypsat všechny prvky\n",
        "# ten 'hloupější' způsob vypsání vypadá takto\n",
        "for i in range(len(muj_list)): \n",
        "# v proměnné 'i' se v tomto případě nachází index od 0 do posledního prvku v listu\n",
        "# délka je v tomto připadě zjištěna pomocí funkce len()\n",
        "    print(muj_list[i])\n",
        "\n",
        "# druhý způsob vypsání vypadá takto\n",
        "for prvek in muj_list:\n",
        "# v proměnné 'prvek' se v tomto případě nachází každý prvek v listu\n",
        "    print(prvek)\n",
        "# tento postup je rychlejší na zápis a přehlednější pro čtenáře, zároveň se tento postup považuje za ten 'správný Pythonovský' způsob"
      ]
    },
    {
      "cell_type": "markdown",
      "metadata": {
        "id": "K1hUCRAu0n8G"
      },
      "source": [
        "### Datové typy v listu\n",
        "Do listu můžeme uložit v podstatě veškeré datové typy. Od int, přes string, až po jiné listy, či hodnoty bool."
      ]
    },
    {
      "cell_type": "code",
      "execution_count": null,
      "metadata": {
        "id": "RPEROPFB0n8I"
      },
      "outputs": [],
      "source": [
        "muj_list = [\"text\", 1, 3.14, True, [\"jiny\", \"list\"]]\n",
        "# po výpisu do konzole list vypadá takto\n",
        "print(muj_list)\n",
        "\n",
        "# pokud bychom chtěli vypsat hodnotu z listu v listu, použijeme '[ ][ ]'\n",
        "# print(muj_list[4][1]) # 5. prvek prvního listu a 2. prvek druhého listu (v tomto případě se jedná o string 'list')"
      ]
    },
    {
      "cell_type": "markdown",
      "metadata": {
        "id": "RfxbAX850n8K"
      },
      "source": [
        "## Tuple\n",
        "Tuple je velice podobný podobný listu. Opět se jeho hodnoty oddělují čárkami, na konktrétní hodnotu se odkazuje pomocí [index] (index opět číslován od 0).<br>\n",
        "Tuple je jiný v tom, že nelze přidávat a odebírat hodnoty, hodnoty zároveň nelze měnit."
      ]
    },
    {
      "cell_type": "code",
      "execution_count": null,
      "metadata": {
        "id": "xS4AyQYa0n8L"
      },
      "outputs": [],
      "source": [
        "# mějme tuple\n",
        "muj_tuple = (\"auto\", \"kolo\", \"kamion\")\n",
        "# po výpisu do konzole tuple vypadá takto\n",
        "print(muj_tuple)\n",
        "\n",
        "#pro výpis konkrétního prvku z tuple se používá indexování\n",
        "print(muj_tuple[1]) # vypíše druhý prvek\n",
        "\n",
        "# pokud bychom chtěli přidat nový prvek do tuple Python nám vyhodí výjimku AtributeError\n",
        "# muj_tuple.append(\"auto\")\n",
        "\n",
        "# to samé se děje pro vyhození hodnoty z tuple\n",
        "# muj_tuple.pop(1)\n",
        "\n",
        "# a pokud bychom chtelí změnit hodnotu v tuple, Python nám vyhodí výjimku TypeError\n",
        "#muj_tuple[1] = \"kolo\""
      ]
    },
    {
      "cell_type": "markdown",
      "metadata": {
        "id": "iT_WYCcW0n8N"
      },
      "source": [
        "### Datové typy v tuple\n",
        "Do tuple můžeme uložit v podstatě veškeré datové typy. Od int, přes string, až po jiné listy, či hodnoty bool."
      ]
    },
    {
      "cell_type": "code",
      "execution_count": null,
      "metadata": {
        "id": "g1pwqYCy0n8N"
      },
      "outputs": [],
      "source": [
        "muj_tuple = (\"text text\", 1, 3.14, True, [\"jiny\", \"list\"], (\"druhy\", \"tuple\"))\n",
        "print(muj_tuple)"
      ]
    },
    {
      "cell_type": "markdown",
      "metadata": {
        "id": "qfcEW6fi0n8O"
      },
      "source": [
        "### For loop pro tuple\n",
        "Pokud chceme procházet tuple, použijeme for loop. Způsob je stejný jako u listu."
      ]
    },
    {
      "cell_type": "code",
      "execution_count": null,
      "metadata": {
        "id": "yl8qgil-0n8R"
      },
      "outputs": [],
      "source": [
        "# mějme tuple\n",
        "muj_tuple = (\"auto\", \"kolo\", \"kamion\")\n",
        "# a chceme vypsat všechny prvky\n",
        "for prvek in muj_tuple:\n",
        "    print(prvek)"
      ]
    },
    {
      "cell_type": "markdown",
      "metadata": {
        "id": "vGaS_jJ60n8S"
      },
      "source": [
        "## Set\n",
        "Set je datový typ, který uchovává více unikátních hodnot. Set je vytvářen pomocí '{}' a hodnoty se oddělují čárkami.\n",
        "Set není indexovaný, takže nemůžeme vypsat konkrétní hodnotu. Můžeme přidávat a odebírat hodnoty. Duplicitní hodnoty se v setu ignorují."
      ]
    },
    {
      "cell_type": "code",
      "execution_count": null,
      "metadata": {
        "id": "AxiNxEZm0n8U"
      },
      "outputs": [],
      "source": [
        "# mějme set\n",
        "muj_set = {\"pes\", \"kocka\", \"křeček\"}\n",
        "# po výpisu do konzole set vypadá takto\n",
        "print(muj_set)\n",
        "\n",
        "# set nemůžeme indexovat, Python nám při pokusu vyhodí TypeError\n",
        "# print(muj_set[1])\n",
        "\n",
        "# zároveň můžeme přidávat a odebírat nové prvky do setu\n",
        "# kontrolní otázka: proč se nyní funkce jmenuje add() a ne append() jako u list a tuple?\n",
        "muj_set.add(\"kůň\")\n",
        "muj_set.remove(\"křeček\")\n",
        "print(muj_set)"
      ]
    },
    {
      "cell_type": "code",
      "execution_count": null,
      "metadata": {
        "id": "Qt9OLgVs0n8V"
      },
      "outputs": [],
      "source": [
        "# pokud bychom chtěli do setu přidat nový prvek, který již v setu je, Python nevyhodí žádnou vyjímku, ale nevytvoří nový prvek\n",
        "muj_set = {\"pes\", \"kocka\", \"křeček\"}\n",
        "muj_set.add(\"pes\")\n",
        "print(muj_set)\n"
      ]
    },
    {
      "cell_type": "markdown",
      "metadata": {
        "id": "pKTWKWPm0n8W"
      },
      "source": [
        "### For loop pro set\n",
        "Pokud chceme procházet set, použijeme for loop. Způsob je stejný jako u list, či tuple."
      ]
    },
    {
      "cell_type": "code",
      "execution_count": null,
      "metadata": {
        "id": "X57PGveX0n8W"
      },
      "outputs": [],
      "source": [
        "# mějme set\n",
        "muj_set = {\"pes\", \"kocka\", \"křeček\"}\n",
        "# a chceme vypsat všechny prvky\n",
        "for prvek in muj_set:\n",
        "    print(prvek)"
      ]
    },
    {
      "cell_type": "markdown",
      "metadata": {
        "id": "ojFKMKNL0n8Y"
      },
      "source": [
        "### Datové typy v setu\n",
        "Do setu můžeme uložit v podstatě veškeré datové typy. Od int, přes string, až po tuple, či hodnoty bool."
      ]
    },
    {
      "cell_type": "code",
      "execution_count": null,
      "metadata": {
        "id": "2oZWIN4K0n8m"
      },
      "outputs": [],
      "source": [
        "muj_set = {\"text\", 1, 3.14, True, (\"jiny\", \"tuple\")} # do setu nejde uložit list a jiný set\n",
        "print(muj_set)"
      ]
    },
    {
      "cell_type": "markdown",
      "metadata": {
        "id": "MSBNWjmr0n8n"
      },
      "source": [
        "## Dictionary\n",
        "Datový typ dictionary má hodnoty, které se uchovávají spolus s klíči, ve formátu \"nazev_klice\":hodnota. Dictionary je vytvářen pomocí '{}' a hodnoty se oddělují čárkami."
      ]
    },
    {
      "cell_type": "code",
      "execution_count": null,
      "metadata": {
        "id": "4pTaKvMn0n8o"
      },
      "outputs": [],
      "source": [
        "muj_dict = {\"znacka\": \"Audi\", \"model\": \"A4\", \"rok\": 2005}\n",
        "# po výpisu do konzole dict vypadá takto\n",
        "print(muj_dict)\n",
        "\n",
        "# pro vypsání hodnoty u kontrétního klíče v dictu se používají '[]', do kterých se vkládá název klíče\n",
        "print(muj_dict[\"model\"]) # vypíše hodnotu model\n",
        "\n",
        "# pro přidání nového klíče a hodnoty do dictu se používá '[]'\n",
        "muj_dict[\"barva\"] = \"červená\"\n",
        "print(muj_dict)\n",
        "\n",
        "# pro vyhození hodnoty z dictu se používá funkce pop()\n",
        "muj_dict.pop(\"rok\")\n",
        "print(muj_dict)\n",
        "\n",
        "# dict stejně jako set, nedovoluje duplicitní prvky (resp. klíče)\n",
        "muj_dict = {\"znacka\": \"Audi\", \"model\": \"A4\", \"rok\": 2005, \"rok\":2020}\n",
        "print(muj_dict)\n"
      ]
    },
    {
      "cell_type": "markdown",
      "metadata": {
        "id": "51V-5p7X0n8o"
      },
      "source": [
        "### For loop pro dictionary\n",
        "Pokud chceme procházet dictionary, použijeme for loop. Způsob je stejný jako u listu, či tuple."
      ]
    },
    {
      "cell_type": "code",
      "execution_count": null,
      "metadata": {
        "id": "qIkOyaZF0n8p"
      },
      "outputs": [],
      "source": [
        "# mějme dict\n",
        "muj_dict = {\"znacka\": \"Audi\", \"model\": \"A4\", \"rok\": 2005}\n",
        "# a chceme vypsat všechny klíče\n",
        "for klic in muj_dict:\n",
        "    print(klic)\n",
        "\n",
        "# pokud bychom chtěli vypsat všechny hodnoty, použijeme funkci values()\n",
        "for hodnota in muj_dict.values():\n",
        "    print(hodnota)\n",
        "  \n",
        "# pro vypsání klíče i hodnoty použijeme\n",
        "for klic, hodnota in muj_dict.items():\n",
        "    print(klic, \":\", hodnota)"
      ]
    },
    {
      "cell_type": "markdown",
      "metadata": {
        "id": "UcUgEwgO0n8q"
      },
      "source": [
        "# Datové typy v dictionary\n",
        "Do dictionary můžeme uložit v podstatě veškeré datové typy. Od int, přes string, až po listy, či hodnoty bool.\n",
        "\n",
        "Jako klíč můžeme použít cokoliv, co dokáže Python takzvaně zahashovat -> \"nedá se to v průběhu programu změnit\"\n",
        "\n",
        "Kontrolní otázky: Můžeme použít list jako klíč? Můžeme použít tuple jako klíč? "
      ]
    },
    {
      "cell_type": "code",
      "execution_count": null,
      "metadata": {
        "id": "wR0L1pqw0n8q"
      },
      "outputs": [],
      "source": [
        "muj_dict = {\n",
        "    \"znacka\": \"Audi\",\n",
        "    \"model\": \"A4\",\n",
        "    \"rok\": 2005,\n",
        "    \"elektrické\": False,\n",
        "    \"barva\": [\"červená\", \"modrá\", \"zelená\"],\n",
        "}\n",
        "\n",
        "# po výpisu do konzole dict vypadá takto\n",
        "print(muj_dict)"
      ]
    },
    {
      "cell_type": "markdown",
      "metadata": {
        "id": "L7UWN8to0n8r"
      },
      "source": [
        "## Enum\n",
        "Enum je jediný typ, který se výrazně liší od předchozích. V podstatě se jedná o námi vytvořenou třídu, dědící od  Enum.\n",
        "Jelikož se jedná o třídu, můžeme k ní vytvořit nejrůznější funkce, specifické jenom pro tuto třídu. My se však zaměříme pouze na zápis hodnot."
      ]
    },
    {
      "cell_type": "code",
      "execution_count": null,
      "metadata": {
        "id": "gkSJDfKP0n8s"
      },
      "outputs": [],
      "source": [
        "from enum import Enum\n",
        "class Barva(Enum):\n",
        "    CERVENA = \"červená\" # tyto hodnoty nelze měnit\n",
        "    MODRA = \"modrá\"\n",
        "    ZELENA = \"zelená\"\n",
        "    # zároveň Enum nedovoluje duplicitní hodnoty(resp. klíče)\n",
        "    # CERVENA = \"červená\" # Python nám vyhodí chybu, že ČERVENA již existuje\n",
        "    JINA_CERVENA = \"červená\" # ale duplicitní hodnoty jsou povoleny\n",
        "\n",
        "# hodnoty se dají vypsat dvěma způsoby\n",
        "print(Barva.CERVENA.value)\n",
        "print(Barva[\"CERVENA\"].value)\n",
        "\n",
        "# pokud chceme vypsat klíč, máme na to opět 2 způsoby\n",
        "print(Barva[\"ZELENA\"].name)\n",
        "print(Barva.ZELENA.name)\n"
      ]
    },
    {
      "cell_type": "code",
      "execution_count": null,
      "metadata": {
        "id": "6E2q-Nf50n8t"
      },
      "outputs": [],
      "source": [
        "# zároveň můžeme použít for cyklus pro vypsání všech hodnot\n",
        "for barva in Barva:\n",
        "    print(barva.name, barva.value) # zde vypisujeme název a hodnotu"
      ]
    },
    {
      "cell_type": "markdown",
      "metadata": {
        "id": "dBTBEe7B0n8u"
      },
      "source": [
        "### Datové typy v enum\n",
        "Do enum můžeme uložit v podstatě veškeré datové typy. Od intu, přes string, až po listy, či hodnoty bool."
      ]
    },
    {
      "cell_type": "code",
      "execution_count": null,
      "metadata": {
        "id": "ed0Qi2KS0n8v"
      },
      "outputs": [],
      "source": [
        "from enum import Enum\n",
        "\n",
        "class Clovek(Enum):\n",
        "    JMENO = \"Jakub\"\n",
        "    PRIJMENI = \"Křížek\"\n",
        "    VEK = 30\n",
        "    OBLIBENE_JIDLO = [\"lasagne\", \"pizza\", \"koláč\"]\n",
        "    VYSOKA_SKOLA = False\n",
        "\n",
        "\n",
        "# zároveň můžeme použít for cyklus pro vypsání všech hodnot\n",
        "for atriubt in Clovek:\n",
        "    print(atriubt.name, atriubt.value) # zde vypisujeme název a hodnotu"
      ]
    },
    {
      "cell_type": "markdown",
      "metadata": {
        "id": "yA_lzDOA0n8v"
      },
      "source": [
        "### Enum v jiných výčtových datových typech\n",
        "Enum může být použit v jiných výčtových datových typech."
      ]
    },
    {
      "cell_type": "code",
      "execution_count": null,
      "metadata": {
        "id": "U9wut8C90n8w"
      },
      "outputs": [],
      "source": [
        "# využijeme už vytvoženého člověka a použijeme ho jako klíč v dictu\n",
        "\n",
        "muj_dict = {}\n",
        "muj_dict[Clovek.JMENO] = \"jméno\"\n",
        "print(muj_dict)\n",
        "\n",
        "# zároveň Enum můžeme použít v setu\n",
        "muj_set = {Clovek.JMENO, Clovek.PRIJMENI, Clovek.VEK}\n",
        "print(muj_set)\n",
        "\n",
        "# v tuplu\n",
        "muj_tuple = (Clovek.JMENO, Clovek.PRIJMENI, Clovek.VEK)\n",
        "print(muj_tuple)\n",
        "\n",
        "# nebo v listu\n",
        "muj_list = [Clovek.JMENO, Clovek.PRIJMENI, Clovek.VEK]\n",
        "print(muj_list)"
      ]
    },
    {
      "cell_type": "markdown",
      "metadata": {
        "id": "yqnsrl0U0n8x"
      },
      "source": [
        "## Cvičení\n",
        "Bude následovat pár cvičení na procvičení znalostí.\n",
        "\n",
        "### Cvičení 1:\n",
        "Ze zadaného pole vytiskněte všechny prvky. Poté třetí prvek vyjměte a vytiskněte nový prvek, který bude na třetím místě."
      ]
    },
    {
      "cell_type": "code",
      "execution_count": null,
      "metadata": {
        "id": "WN0lb7iy0n8y"
      },
      "outputs": [],
      "source": [
        "pole = [\"pět\", \"šest\", 7, \"osm\", \"devět\", True]\n",
        "\n"
      ]
    },
    {
      "cell_type": "markdown",
      "metadata": {
        "id": "Pk7sjGE_0n8z"
      },
      "source": [
        "Referenční řešení pro for-cyklus: <br>\n",
        "<table style=\"margin:auto\">\n",
        "<tr>\n",
        "<td>\n",
        "<pre>\n",
        "pět\n",
        "šest\n",
        "7\n",
        "osm\n",
        "devět\n",
        "True\n",
        "</pre>\n",
        "</td>\n",
        "</tr>\n",
        "</table>\n",
        "\n",
        "Referenční řešení pro vyhozený element: <br>\n",
        "<table style=\"margin:auto\">\n",
        "<tr>\n",
        "<td>\n",
        "osm\n",
        "</td>\n",
        "</tr>\n",
        "</table>\n",
        "\n"
      ]
    },
    {
      "cell_type": "markdown",
      "metadata": {
        "id": "c7ctbztE0n80"
      },
      "source": [
        "### Cvičení 2:\n",
        "Vytvořte datovou strukturu dict o minimálně 3 hodnotách a pomocí for loop vytiskněte všechny hodnoty a klíče. Poté přidejte nový klíč s hodnotou a znovu vypište"
      ]
    },
    {
      "cell_type": "code",
      "execution_count": null,
      "metadata": {
        "id": "fpPPg9P60n80"
      },
      "outputs": [],
      "source": [
        ""
      ]
    },
    {
      "cell_type": "markdown",
      "metadata": {
        "id": "19qSkel90n81"
      },
      "source": [
        "Referenční řešení před přidáním hodnty: <br>\n",
        "<table style=\"margin:auto\">\n",
        "<tr>\n",
        "<td>\n",
        "<pre>\n",
        "jméno Jakub\n",
        "příjmení Křížek\n",
        "věk 30\n",
        "</pre>\n",
        "</td>\n",
        "</tr>\n",
        "</table>\n",
        "\n",
        "Referenční řešení po přidání hodnty: <br>\n",
        "<table style=\"margin:auto\">\n",
        "<tr>\n",
        "<td>\n",
        "<pre>\n",
        "{'jméno': 'Jakub', 'příjmení': 'Křížek', 'věk': 30, 'řidičský_průkaz': True}\n",
        "</pre>\n",
        "</td>\n",
        "</tr>\n",
        "</table>"
      ]
    },
    {
      "cell_type": "markdown",
      "metadata": {
        "id": "VgrntaWG0n82"
      },
      "source": [
        "### Cvičení 3:\n",
        "Vytvořte datovou strukturu Enum, která bude obsahovat roční období. Následně ve for loopu vypište klíče a hodoty."
      ]
    },
    {
      "cell_type": "code",
      "execution_count": null,
      "metadata": {
        "id": "fdAZ5P510n83"
      },
      "outputs": [],
      "source": [
        "from enum import Enum\n"
      ]
    },
    {
      "cell_type": "markdown",
      "metadata": {
        "id": "2JMjFeLQ0n83"
      },
      "source": [
        "Referenční řešení: <br>\n",
        "<table style=\"margin:auto\">\n",
        "<tr>\n",
        "<td>\n",
        "<pre>\n",
        "PRVNI JARO\n",
        "DRUHE LÉTO\n",
        "TRETI PODZIM\n",
        "CETVRTE ZIMA\n",
        "</pre>\n",
        "</td>\n",
        "</tr>\n",
        "</table>"
      ]
    }
  ],
  "metadata": {
    "interpreter": {
      "hash": "bcd8813e51c944e999bf7108618aeb38e936e31a06e2fbc82f40b9f33ae8dee4"
    },
    "kernelspec": {
      "display_name": "Python 3.8.10 ('env': venv)",
      "language": "python",
      "name": "python3"
    },
    "language_info": {
      "codemirror_mode": {
        "name": "ipython",
        "version": 3
      },
      "file_extension": ".py",
      "mimetype": "text/x-python",
      "name": "python",
      "nbconvert_exporter": "python",
      "pygments_lexer": "ipython3",
      "version": "3.8.10"
    },
    "orig_nbformat": 4,
    "colab": {
      "name": "Vyctove_datove_typy_zadani.ipynb",
      "provenance": [],
      "collapsed_sections": [],
      "include_colab_link": true
    }
  },
  "nbformat": 4,
  "nbformat_minor": 0
}